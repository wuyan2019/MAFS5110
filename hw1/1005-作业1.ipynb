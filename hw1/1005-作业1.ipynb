{
 "cells": [
  {
   "cell_type": "code",
   "execution_count": 34,
   "metadata": {},
   "outputs": [],
   "source": [
    "import datetime as dt\n",
    "import pandas as pd\n",
    "import pandas_datareader.data as web\n",
    "import numpy as np\n",
    "from scipy import stats\n",
    "import statsmodels.stats.api as sms\n",
    "import matplotlib.pyplot as plt\n",
    "import statsmodels.api as sm"
   ]
  },
  {
   "cell_type": "code",
   "execution_count": 2,
   "metadata": {},
   "outputs": [],
   "source": [
    "start = dt.date(2013,1,1)\n",
    "end = dt.date(2016,12,31)"
   ]
  },
  {
   "cell_type": "code",
   "execution_count": 3,
   "metadata": {},
   "outputs": [],
   "source": [
    "df = web.DataReader(\"IBM\",\"yahoo\",start,end)"
   ]
  },
  {
   "cell_type": "code",
   "execution_count": 4,
   "metadata": {},
   "outputs": [
    {
     "data": {
      "text/html": [
       "<div>\n",
       "<style scoped>\n",
       "    .dataframe tbody tr th:only-of-type {\n",
       "        vertical-align: middle;\n",
       "    }\n",
       "\n",
       "    .dataframe tbody tr th {\n",
       "        vertical-align: top;\n",
       "    }\n",
       "\n",
       "    .dataframe thead th {\n",
       "        text-align: right;\n",
       "    }\n",
       "</style>\n",
       "<table border=\"1\" class=\"dataframe\">\n",
       "  <thead>\n",
       "    <tr style=\"text-align: right;\">\n",
       "      <th></th>\n",
       "      <th>High</th>\n",
       "      <th>Low</th>\n",
       "      <th>Open</th>\n",
       "      <th>Close</th>\n",
       "      <th>Volume</th>\n",
       "      <th>Adj Close</th>\n",
       "    </tr>\n",
       "    <tr>\n",
       "      <th>Date</th>\n",
       "      <th></th>\n",
       "      <th></th>\n",
       "      <th></th>\n",
       "      <th></th>\n",
       "      <th></th>\n",
       "      <th></th>\n",
       "    </tr>\n",
       "  </thead>\n",
       "  <tbody>\n",
       "    <tr>\n",
       "      <th>2012-12-31</th>\n",
       "      <td>191.679993</td>\n",
       "      <td>188.839996</td>\n",
       "      <td>189.229996</td>\n",
       "      <td>191.550003</td>\n",
       "      <td>4684900.0</td>\n",
       "      <td>142.497650</td>\n",
       "    </tr>\n",
       "    <tr>\n",
       "      <th>2013-01-02</th>\n",
       "      <td>196.350006</td>\n",
       "      <td>193.800003</td>\n",
       "      <td>194.089996</td>\n",
       "      <td>196.350006</td>\n",
       "      <td>4234100.0</td>\n",
       "      <td>146.068481</td>\n",
       "    </tr>\n",
       "    <tr>\n",
       "      <th>2013-01-03</th>\n",
       "      <td>196.289993</td>\n",
       "      <td>194.440002</td>\n",
       "      <td>195.669998</td>\n",
       "      <td>195.270004</td>\n",
       "      <td>3644700.0</td>\n",
       "      <td>145.265015</td>\n",
       "    </tr>\n",
       "    <tr>\n",
       "      <th>2013-01-04</th>\n",
       "      <td>194.460007</td>\n",
       "      <td>192.779999</td>\n",
       "      <td>194.190002</td>\n",
       "      <td>193.990005</td>\n",
       "      <td>3380200.0</td>\n",
       "      <td>144.312820</td>\n",
       "    </tr>\n",
       "    <tr>\n",
       "      <th>2013-01-07</th>\n",
       "      <td>193.779999</td>\n",
       "      <td>192.339996</td>\n",
       "      <td>193.399994</td>\n",
       "      <td>193.139999</td>\n",
       "      <td>2862300.0</td>\n",
       "      <td>143.680496</td>\n",
       "    </tr>\n",
       "    <tr>\n",
       "      <th>...</th>\n",
       "      <td>...</td>\n",
       "      <td>...</td>\n",
       "      <td>...</td>\n",
       "      <td>...</td>\n",
       "      <td>...</td>\n",
       "      <td>...</td>\n",
       "    </tr>\n",
       "    <tr>\n",
       "      <th>2016-12-23</th>\n",
       "      <td>167.490005</td>\n",
       "      <td>166.449997</td>\n",
       "      <td>167.000000</td>\n",
       "      <td>166.710007</td>\n",
       "      <td>1701200.0</td>\n",
       "      <td>141.231049</td>\n",
       "    </tr>\n",
       "    <tr>\n",
       "      <th>2016-12-27</th>\n",
       "      <td>167.979996</td>\n",
       "      <td>166.850006</td>\n",
       "      <td>166.979996</td>\n",
       "      <td>167.139999</td>\n",
       "      <td>1397500.0</td>\n",
       "      <td>141.595306</td>\n",
       "    </tr>\n",
       "    <tr>\n",
       "      <th>2016-12-28</th>\n",
       "      <td>167.740005</td>\n",
       "      <td>166.000000</td>\n",
       "      <td>167.289993</td>\n",
       "      <td>166.190002</td>\n",
       "      <td>1757500.0</td>\n",
       "      <td>140.790512</td>\n",
       "    </tr>\n",
       "    <tr>\n",
       "      <th>2016-12-29</th>\n",
       "      <td>166.990005</td>\n",
       "      <td>166.000000</td>\n",
       "      <td>166.020004</td>\n",
       "      <td>166.600006</td>\n",
       "      <td>1663500.0</td>\n",
       "      <td>141.137833</td>\n",
       "    </tr>\n",
       "    <tr>\n",
       "      <th>2016-12-30</th>\n",
       "      <td>166.699997</td>\n",
       "      <td>165.500000</td>\n",
       "      <td>166.440002</td>\n",
       "      <td>165.990005</td>\n",
       "      <td>2952800.0</td>\n",
       "      <td>140.621094</td>\n",
       "    </tr>\n",
       "  </tbody>\n",
       "</table>\n",
       "<p>1009 rows × 6 columns</p>\n",
       "</div>"
      ],
      "text/plain": [
       "                  High         Low        Open       Close     Volume  \\\n",
       "Date                                                                    \n",
       "2012-12-31  191.679993  188.839996  189.229996  191.550003  4684900.0   \n",
       "2013-01-02  196.350006  193.800003  194.089996  196.350006  4234100.0   \n",
       "2013-01-03  196.289993  194.440002  195.669998  195.270004  3644700.0   \n",
       "2013-01-04  194.460007  192.779999  194.190002  193.990005  3380200.0   \n",
       "2013-01-07  193.779999  192.339996  193.399994  193.139999  2862300.0   \n",
       "...                ...         ...         ...         ...        ...   \n",
       "2016-12-23  167.490005  166.449997  167.000000  166.710007  1701200.0   \n",
       "2016-12-27  167.979996  166.850006  166.979996  167.139999  1397500.0   \n",
       "2016-12-28  167.740005  166.000000  167.289993  166.190002  1757500.0   \n",
       "2016-12-29  166.990005  166.000000  166.020004  166.600006  1663500.0   \n",
       "2016-12-30  166.699997  165.500000  166.440002  165.990005  2952800.0   \n",
       "\n",
       "             Adj Close  \n",
       "Date                    \n",
       "2012-12-31  142.497650  \n",
       "2013-01-02  146.068481  \n",
       "2013-01-03  145.265015  \n",
       "2013-01-04  144.312820  \n",
       "2013-01-07  143.680496  \n",
       "...                ...  \n",
       "2016-12-23  141.231049  \n",
       "2016-12-27  141.595306  \n",
       "2016-12-28  140.790512  \n",
       "2016-12-29  141.137833  \n",
       "2016-12-30  140.621094  \n",
       "\n",
       "[1009 rows x 6 columns]"
      ]
     },
     "execution_count": 4,
     "metadata": {},
     "output_type": "execute_result"
    }
   ],
   "source": [
    "df"
   ]
  },
  {
   "cell_type": "code",
   "execution_count": 21,
   "metadata": {},
   "outputs": [
    {
     "data": {
      "text/plain": [
       "array([ 0.02474993, -0.00551557, -0.0065766 , ..., -0.00570005,\n",
       "        0.00246404, -0.00366819])"
      ]
     },
     "execution_count": 21,
     "metadata": {},
     "output_type": "execute_result"
    }
   ],
   "source": [
    "rt = np.diff(np.log(df[\"Close\"]))\n",
    "#rt = np.append(np.nan,rt)\n",
    "#pd.DataFrame(rt)\n",
    "rt"
   ]
  },
  {
   "cell_type": "code",
   "execution_count": 23,
   "metadata": {},
   "outputs": [
    {
     "data": {
      "text/plain": [
       "Ttest_1sampResult(statistic=-0.36924893070622355, pvalue=0.7120198143260279)"
      ]
     },
     "execution_count": 23,
     "metadata": {},
     "output_type": "execute_result"
    }
   ],
   "source": [
    "stats.ttest_1samp(rt,0)"
   ]
  },
  {
   "cell_type": "code",
   "execution_count": 25,
   "metadata": {},
   "outputs": [
    {
     "data": {
      "text/plain": [
       "(-0.0008971738221539999, 0.0006130045594415028)"
      ]
     },
     "execution_count": 25,
     "metadata": {},
     "output_type": "execute_result"
    }
   ],
   "source": [
    "sms.DescrStatsW(rt).tconfint_mean(alpha = 0.05)"
   ]
  },
  {
   "cell_type": "code",
   "execution_count": 27,
   "metadata": {},
   "outputs": [
    {
     "data": {
      "text/plain": [
       "(0.9264149069786072, 8.305715279986766e-22)"
      ]
     },
     "execution_count": 27,
     "metadata": {},
     "output_type": "execute_result"
    }
   ],
   "source": [
    "##------正态性检验----------##\n",
    "from scipy.stats import shapiro,kstest,anderson\n",
    "# shapiro-wilk test\n",
    "shapiro(rt)\n",
    "# 输出结果第一个为统计量值，第二个为p值"
   ]
  },
  {
   "cell_type": "code",
   "execution_count": 28,
   "metadata": {},
   "outputs": [
    {
     "data": {
      "text/plain": [
       "KstestResult(statistic=0.0683248980965992, pvalue=0.00015509873885676112)"
      ]
     },
     "execution_count": 28,
     "metadata": {},
     "output_type": "execute_result"
    }
   ],
   "source": [
    "# ks检验\n",
    "z = (rt-np.mean(rt))/np.std(rt)\n",
    "kstest(z,cdf = \"norm\")"
   ]
  },
  {
   "cell_type": "code",
   "execution_count": 29,
   "metadata": {},
   "outputs": [
    {
     "data": {
      "text/plain": [
       "AndersonResult(statistic=8.914450598436815, critical_values=array([0.574, 0.653, 0.784, 0.914, 1.088]), significance_level=array([15. , 10. ,  5. ,  2.5,  1. ]))"
      ]
     },
     "execution_count": 29,
     "metadata": {},
     "output_type": "execute_result"
    }
   ],
   "source": [
    "# anderson-Darling test\n",
    "anderson(rt, dist = \"norm\")"
   ]
  },
  {
   "cell_type": "code",
   "execution_count": 30,
   "metadata": {},
   "outputs": [],
   "source": [
    "###########################################################\n",
    "##\n",
    "##      Q2:先画QQ图，再决定进行哪一种检验\n",
    "##\n",
    "###########################################################"
   ]
  },
  {
   "cell_type": "code",
   "execution_count": 32,
   "metadata": {},
   "outputs": [],
   "source": [
    "##---读取IBM和MSFT数据---##\n",
    "start = dt.date(2012,1,1)\n",
    "end = dt.date(2016,12,31)\n",
    "IBM_data = web.DataReader(\"IBM\",\"yahoo\",start,end)\n",
    "MSFT_data = web.DataReader(\"MSFT\",\"yahoo\",start,end)"
   ]
  },
  {
   "cell_type": "code",
   "execution_count": 33,
   "metadata": {},
   "outputs": [],
   "source": [
    "IBM_log_return = np.diff(np.log(IBM_data[\"Close\"]))\n",
    "MSFT_log_return = np.diff(np.log(MSFT_data[\"Close\"]))"
   ]
  },
  {
   "cell_type": "code",
   "execution_count": 35,
   "metadata": {},
   "outputs": [],
   "source": [
    "z1 = (IBM_log_return-IBM_log_return.mean())/IBM_log_return.std()\n",
    "z2 = (MSFT_log_return-MSFT_log_return.mean())/MSFT_log_return.std()"
   ]
  },
  {
   "cell_type": "code",
   "execution_count": 36,
   "metadata": {},
   "outputs": [
    {
     "data": {
      "image/png": "[encoded data removed]",
      "text/plain": [
       "<Figure size 432x288 with 1 Axes>"
      ]
     },
     "metadata": {
      "needs_background": "light"
     },
     "output_type": "display_data"
    }
   ],
   "source": [
    "##----QQ图1----##\n",
    "sm.qqplot(z1,line = '45')\n",
    "plt.show()"
   ]
  },
  {
   "cell_type": "code",
   "execution_count": 37,
   "metadata": {},
   "outputs": [
    {
     "data": {
      "image/png": "[encoded data removed]",
      "text/plain": [
       "<Figure size 432x288 with 1 Axes>"
      ]
     },
     "metadata": {
      "needs_background": "light"
     },
     "output_type": "display_data"
    }
   ],
   "source": [
    "##----QQ图2----##\n",
    "sm.qqplot(z2,line = '45')\n",
    "plt.show()"
   ]
  },
  {
   "cell_type": "code",
   "execution_count": 38,
   "metadata": {},
   "outputs": [
    {
     "data": {
      "text/plain": [
       "RanksumsResult(statistic=-0.703197878213132, pvalue=0.4819324413453949)"
      ]
     },
     "execution_count": 38,
     "metadata": {},
     "output_type": "execute_result"
    }
   ],
   "source": [
    "#-----Two-sample Wilcoxon test. \n",
    "from scipy.stats import ranksums\n",
    "ranksums(IBM_log_return,MSFT_log_return)"
   ]
  }
 ],
 "metadata": {
  "kernelspec": {
   "display_name": "Python 3",
   "language": "python",
   "name": "python3"
  },
  "language_info": {
   "codemirror_mode": {
    "name": "ipython",
    "version": 3
   },
   "file_extension": ".py",
   "mimetype": "text/x-python",
   "name": "python",
   "nbconvert_exporter": "python",
   "pygments_lexer": "ipython3",
   "version": "3.7.6"
  }
 },
 "nbformat": 4,
 "nbformat_minor": 4
}
